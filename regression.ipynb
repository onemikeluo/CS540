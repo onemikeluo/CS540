{
 "cells": [
  {
   "cell_type": "code",
   "execution_count": 215,
   "metadata": {},
   "outputs": [],
   "source": [
    "##the packages we needed\n",
    "import pandas as pd\n",
    "from sqlalchemy import create_engine\n",
    "import matplotlib.pyplot as plt\n",
    "import statsmodels.api as sm\n",
    "import numpy as np\n",
    "import seaborn as sns\n",
    "\n",
    "from sklearn.metrics import mean_absolute_error, mean_squared_error, r2_score\n",
    "from sklearn.model_selection import cross_val_score, train_test_split"
   ]
  },
  {
   "cell_type": "code",
   "execution_count": 216,
   "metadata": {},
   "outputs": [],
   "source": [
    "##create SQL connection\n",
    "engine = create_engine('postgresql://postgres@localhost:5432/spatial')\n",
    "df = pd.read_sql_query('select parcel.gcdistance, sales_analysis.price from volusia.parcel, volusia.sales_analysis where sales_analysis.parid = parcel.parid AND ST_Intersects(parcel.geom, ST_MakeEnvelope(541524,1695784,575191,1743390, 2236))',con=engine)\n",
    "##location based on (541524,1695784,575191,1743390), which is the great Deland area\n",
    "##or simply use deland.csv in my git\n",
    "## df = pd.read_csv('your path\\\\deland.csv')"
   ]
  },
  {
   "cell_type": "code",
   "execution_count": 217,
   "metadata": {},
   "outputs": [
    {
     "data": {
      "text/html": [
       "<div>\n",
       "<style scoped>\n",
       "    .dataframe tbody tr th:only-of-type {\n",
       "        vertical-align: middle;\n",
       "    }\n",
       "\n",
       "    .dataframe tbody tr th {\n",
       "        vertical-align: top;\n",
       "    }\n",
       "\n",
       "    .dataframe thead th {\n",
       "        text-align: right;\n",
       "    }\n",
       "</style>\n",
       "<table border=\"1\" class=\"dataframe\">\n",
       "  <thead>\n",
       "    <tr style=\"text-align: right;\">\n",
       "      <th></th>\n",
       "      <th>gcdistance</th>\n",
       "      <th>price</th>\n",
       "    </tr>\n",
       "  </thead>\n",
       "  <tbody>\n",
       "    <tr>\n",
       "      <th>0</th>\n",
       "      <td>1.441824</td>\n",
       "      <td>84000.0</td>\n",
       "    </tr>\n",
       "    <tr>\n",
       "      <th>1</th>\n",
       "      <td>1.118934</td>\n",
       "      <td>112000.0</td>\n",
       "    </tr>\n",
       "    <tr>\n",
       "      <th>2</th>\n",
       "      <td>0.615752</td>\n",
       "      <td>225000.0</td>\n",
       "    </tr>\n",
       "    <tr>\n",
       "      <th>3</th>\n",
       "      <td>0.332137</td>\n",
       "      <td>204600.0</td>\n",
       "    </tr>\n",
       "    <tr>\n",
       "      <th>4</th>\n",
       "      <td>0.332137</td>\n",
       "      <td>180000.0</td>\n",
       "    </tr>\n",
       "  </tbody>\n",
       "</table>\n",
       "</div>"
      ],
      "text/plain": [
       "   gcdistance     price\n",
       "0    1.441824   84000.0\n",
       "1    1.118934  112000.0\n",
       "2    0.615752  225000.0\n",
       "3    0.332137  204600.0\n",
       "4    0.332137  180000.0"
      ]
     },
     "execution_count": 217,
     "metadata": {},
     "output_type": "execute_result"
    }
   ],
   "source": [
    "df.head()\n",
    "##connection success"
   ]
  },
  {
   "cell_type": "code",
   "execution_count": 218,
   "metadata": {},
   "outputs": [
    {
     "data": {
      "text/plain": [
       "0       1.441824\n",
       "1       1.118934\n",
       "2       0.615752\n",
       "3       0.332137\n",
       "4       0.332137\n",
       "          ...   \n",
       "4897    0.266116\n",
       "4898    0.272944\n",
       "4899    0.281834\n",
       "4900    0.281834\n",
       "4901    0.444969\n",
       "Name: gcdistance, Length: 4902, dtype: float64"
      ]
     },
     "execution_count": 218,
     "metadata": {},
     "output_type": "execute_result"
    }
   ],
   "source": [
    "df['gcdistance']"
   ]
  },
  {
   "cell_type": "code",
   "execution_count": 219,
   "metadata": {},
   "outputs": [],
   "source": [
    "##we want to remove the null values for the modeling purpose\n",
    "df = df[df['gcdistance'].notna()]"
   ]
  },
  {
   "cell_type": "code",
   "execution_count": 220,
   "metadata": {},
   "outputs": [
    {
     "data": {
      "text/plain": [
       "False"
      ]
     },
     "execution_count": 220,
     "metadata": {},
     "output_type": "execute_result"
    }
   ],
   "source": [
    "##all good\n",
    "df['gcdistance'].isnull().values.any()"
   ]
  },
  {
   "cell_type": "code",
   "execution_count": 221,
   "metadata": {},
   "outputs": [
    {
     "name": "stdout",
     "output_type": "stream",
     "text": [
      "<class 'pandas.core.frame.DataFrame'>\n",
      "Int64Index: 4771 entries, 0 to 4901\n",
      "Data columns (total 2 columns):\n",
      " #   Column      Non-Null Count  Dtype  \n",
      "---  ------      --------------  -----  \n",
      " 0   gcdistance  4771 non-null   float64\n",
      " 1   price       4771 non-null   float64\n",
      "dtypes: float64(2)\n",
      "memory usage: 111.8 KB\n"
     ]
    }
   ],
   "source": [
    "df.info()"
   ]
  },
  {
   "cell_type": "code",
   "execution_count": 222,
   "metadata": {},
   "outputs": [
    {
     "data": {
      "text/plain": [
       "<AxesSubplot:xlabel='gcdistance', ylabel='price'>"
      ]
     },
     "execution_count": 222,
     "metadata": {},
     "output_type": "execute_result"
    },
    {
     "data": {
      "image/png": "[encoded data removed]",
      "text/plain": [
       "<Figure size 432x288 with 1 Axes>"
      ]
     },
     "metadata": {
      "needs_background": "light"
     },
     "output_type": "display_data"
    }
   ],
   "source": [
    "##intial distribution, outliers identified\n",
    "dfx = df['gcdistance']\n",
    "dfy = df['price']\n",
    "sns.regplot(x=dfx,y=dfy,data=df, scatter_kws={\"color\": \"blue\"}, line_kws={\"color\": \"red\"}, fit_reg=True) "
   ]
  },
  {
   "cell_type": "code",
   "execution_count": 223,
   "metadata": {},
   "outputs": [],
   "source": [
    "##remove them\n",
    "q_hi = df['price'].quantile(0.999)\n",
    "q_low = df['price'].quantile(0.001)\n",
    "df = df[(df['price']>q_low) & (df['price']<q_hi)]"
   ]
  },
  {
   "cell_type": "code",
   "execution_count": 224,
   "metadata": {},
   "outputs": [
    {
     "data": {
      "text/plain": [
       "<AxesSubplot:xlabel='gcdistance', ylabel='price'>"
      ]
     },
     "execution_count": 224,
     "metadata": {},
     "output_type": "execute_result"
    },
    {
     "data": {
      "image/png": "[encoded data removed]",
      "text/plain": [
       "<Figure size 432x288 with 1 Axes>"
      ]
     },
     "metadata": {
      "needs_background": "light"
     },
     "output_type": "display_data"
    }
   ],
   "source": [
    "##a bit better, all we can see the trend is indicating further the distance higher the price\n",
    "dfx = df['gcdistance']\n",
    "dfy = df['price']\n",
    "sns.regplot(x=dfx,y=dfy,data=df, scatter_kws={\"color\": \"blue\"}, line_kws={\"color\": \"red\"}, fit_reg=True) "
   ]
  },
  {
   "cell_type": "code",
   "execution_count": 225,
   "metadata": {},
   "outputs": [],
   "source": [
    "X = df[['gcdistance']]"
   ]
  },
  {
   "cell_type": "code",
   "execution_count": 226,
   "metadata": {},
   "outputs": [],
   "source": [
    "y = df[['price']]"
   ]
  },
  {
   "cell_type": "code",
   "execution_count": 227,
   "metadata": {},
   "outputs": [],
   "source": [
    "X_train, X_test, y_train, y_test = train_test_split(X, y,\n",
    "                      test_size = 0.3, random_state = 666)"
   ]
  },
  {
   "cell_type": "code",
   "execution_count": 228,
   "metadata": {},
   "outputs": [
    {
     "name": "stdout",
     "output_type": "stream",
     "text": [
      "                                 OLS Regression Results                                \n",
      "=======================================================================================\n",
      "Dep. Variable:                  price   R-squared (uncentered):                   0.573\n",
      "Model:                            OLS   Adj. R-squared (uncentered):              0.573\n",
      "Method:                 Least Squares   F-statistic:                              4477.\n",
      "Date:                Fri, 30 Apr 2021   Prob (F-statistic):                        0.00\n",
      "Time:                        16:33:46   Log-Likelihood:                         -44470.\n",
      "No. Observations:                3332   AIC:                                  8.894e+04\n",
      "Df Residuals:                    3331   BIC:                                  8.895e+04\n",
      "Df Model:                           1                                                  \n",
      "Covariance Type:            nonrobust                                                  \n",
      "==============================================================================\n",
      "                 coef    std err          t      P>|t|      [0.025      0.975]\n",
      "------------------------------------------------------------------------------\n",
      "gcdistance   2.23e+05   3333.321     66.911      0.000    2.17e+05     2.3e+05\n",
      "==============================================================================\n",
      "Omnibus:                      947.943   Durbin-Watson:                   1.606\n",
      "Prob(Omnibus):                  0.000   Jarque-Bera (JB):            19242.730\n",
      "Skew:                           0.845   Prob(JB):                         0.00\n",
      "Kurtosis:                      14.651   Cond. No.                         1.00\n",
      "==============================================================================\n",
      "\n",
      "Notes:\n",
      "[1] R² is computed without centering (uncentered) since the model does not contain a constant.\n",
      "[2] Standard Errors assume that the covariance matrix of the errors is correctly specified.\n",
      "msq:  159621.09922658346\n",
      "r2:  -0.6796890257793218\n"
     ]
    }
   ],
   "source": [
    "OLSmodel = sm.OLS(y_train, X_train).fit()\n",
    "OLS_y_pred = OLSmodel.predict(X_test)\n",
    "\n",
    "print_OLSmodel = OLSmodel.summary()\n",
    "print(print_OLSmodel)\n",
    "\n",
    "msq_pred = np.sqrt(mean_squared_error(y_test,OLS_y_pred))\n",
    "r2_pred = r2_score(y_test, OLS_y_pred)\n",
    "\n",
    "print('msq: ', msq_pred)\n",
    "print('r2: ' , r2_pred)"
   ]
  },
  {
   "cell_type": "code",
   "execution_count": null,
   "metadata": {},
   "outputs": [],
   "source": []
  },
  {
   "cell_type": "code",
   "execution_count": null,
   "metadata": {},
   "outputs": [],
   "source": []
  }
 ],
 "metadata": {
  "kernelspec": {
   "display_name": "Python 3",
   "language": "python",
   "name": "python3"
  },
  "language_info": {
   "codemirror_mode": {
    "name": "ipython",
    "version": 3
   },
   "file_extension": ".py",
   "mimetype": "text/x-python",
   "name": "python",
   "nbconvert_exporter": "python",
   "pygments_lexer": "ipython3",
   "version": "3.8.5"
  }
 },
 "nbformat": 4,
 "nbformat_minor": 4
}
